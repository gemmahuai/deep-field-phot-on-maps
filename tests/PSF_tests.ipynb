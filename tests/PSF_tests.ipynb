{
 "cells": [
  {
   "cell_type": "code",
   "execution_count": 2,
   "id": "4ff52ec8",
   "metadata": {},
   "outputs": [
    {
     "name": "stderr",
     "output_type": "stream",
     "text": [
      "WARNING: UnitsWarning: 'log(solMass)' did not parse as fits unit: 'log' is not a recognized function If this is meant to be a custom unit, define it with 'u.def_unit'. To have it recognized inside a file reader or other code, enable it with 'u.add_enabled_units'. For details, see https://docs.astropy.org/en/latest/units/combining_and_defining.html [astropy.units.core]\n",
      "WARNING: UnitsWarning: 'log(solMass/yr)' did not parse as fits unit: 'log' is not a recognized function If this is meant to be a custom unit, define it with 'u.def_unit'. To have it recognized inside a file reader or other code, enable it with 'u.add_enabled_units'. For details, see https://docs.astropy.org/en/latest/units/combining_and_defining.html [astropy.units.core]\n",
      "WARNING: UnitsWarning: 'log(yr**(-1))' did not parse as fits unit: 'log' is not a recognized function If this is meant to be a custom unit, define it with 'u.def_unit'. To have it recognized inside a file reader or other code, enable it with 'u.add_enabled_units'. For details, see https://docs.astropy.org/en/latest/units/combining_and_defining.html [astropy.units.core]\n",
      "WARNING: UnitsWarning: 'log(solLum)' did not parse as fits unit: 'log' is not a recognized function If this is meant to be a custom unit, define it with 'u.def_unit'. To have it recognized inside a file reader or other code, enable it with 'u.add_enabled_units'. For details, see https://docs.astropy.org/en/latest/units/combining_and_defining.html [astropy.units.core]\n"
     ]
    }
   ],
   "source": [
    "import numpy as np\n",
    "from matplotlib import pyplot as plt\n",
    "import astropy.units as u\n",
    "from astropy import constants as const\n",
    "import pandas as pd\n",
    "from astropy.table import Column\n",
    "from astropy.time import Time\n",
    "from scipy import interpolate as interp\n",
    "import time\n",
    "# from Photoz import photoz_tools as phtz\n",
    "from tractor import *\n",
    "from skimage.transform import downscale_local_mean\n",
    "import scipy.optimize as opt\n",
    "import matplotlib as mpl\n",
    "from scipy.spatial.distance import cdist\n",
    "\n",
    "import itertools\n",
    "import matplotlib.pyplot as plt\n",
    "from astropy.table import hstack\n",
    "import os\n",
    "\n",
    "import SPHEREx_ObsSimulator as SPobs\n",
    "from SPHEREx_Simulator_Tools import SPHEREx_Logger, data_filename\n",
    "import SPHEREx_InstrumentSimulator as SPinst\n",
    "import SPHEREx_SkySimulator as SPsky\n",
    "from pkg_resources import resource_filename\n",
    "\n",
    "# survey_plan_file = 'spherex_survey_plan_march_2021.fits'\n",
    "survey_plan_file = \"/Users/gemmahuai/Desktop/CalTech/SPHEREx/Redshift/spherex_survey_plan_R2.fits\"\n",
    "SPHEREx_Pointings = SPobs.Pointings(input_file = survey_plan_file,\n",
    "                                   Gaussian_jitter=1.8, \n",
    "                                   roll_angle='psi2')\n",
    "\n",
    "from spherex_parameters import load_spherex_parameters\n",
    "# Load instrument and project parameters as a dictionary\n",
    "spherex_parameters = load_spherex_parameters()\n",
    "\n",
    "\n",
    "ds1 = 4\n",
    "ds2 = 2\n",
    "trim = 32\n",
    "SPHEREx_Instrument = SPinst.Instrument(\n",
    "    instrument_data=spherex_parameters,\n",
    "    psf=data_filename(\"psf/simulated_PSF_database_centered_v3_og.fits\"),\n",
    "    psf_downsample_by_array={1: ds1, 2: ds1, 3: ds1, 4: ds2, 5: ds2, 6: ds2},\n",
    "    psf_trim_by_array={1: trim, 2: trim, 3: trim, 4: trim, 5: trim, 6: trim},\n",
    "\n",
    "    noise_model=SPinst.white_noise,\n",
    "    dark_current_model=SPinst.poisson_dark_current,\n",
    "    lvf_model=SPinst.Tabular_Bandpass()\n",
    ")\n",
    "\n",
    "from SPHEREx_SkySimulator import QuickCatalog\n",
    "from SPHEREx_SkySimulator import Catalog_to_Simulate\n",
    "# path='/Users/zhaoyuhuai/SPHEREx-Sky-Simulator/docs/QuickCatalog/'\n",
    "\n",
    "from pyarrow import parquet\n",
    "from astropy.table import Table\n",
    "from astropy.io import fits\n",
    "Channels = Table.read(data_filename('Channel_Definition_03022021.fits'))\n",
    "Scene = SPsky.Scene(SPHEREx_Pointings,\n",
    "                        zodi_model=SPsky.zodicalc.ModifiedKelsallModelWithHPFT())\n",
    "\n",
    "COSMOS_tab = Table.read('/Users/gemmahuai/Desktop/CalTech/SPHEREx/SPHEREx_2023/COSMOS2020_FARMER_R1_v2.1_p3_in_Richard_sim_2023Dec4.fits', format='fits')\n",
    "COSMOS_sim_sources = Table.read('/Users/gemmahuai/Desktop/CalTech/SPHEREx/SPHEREx_2023/COSMOS2020_FARMER_R1_v2.1_p3_in_Richard_sim_2023Dec4.fits', format='fits')\n",
    "\n"
   ]
  },
  {
   "cell_type": "code",
   "execution_count": null,
   "id": "cdd8c41c",
   "metadata": {},
   "outputs": [],
   "source": []
  },
  {
   "cell_type": "markdown",
   "id": "863077db",
   "metadata": {},
   "source": [
    "# Ari's PSF functionalities"
   ]
  },
  {
   "cell_type": "code",
   "execution_count": 5,
   "id": "81053b92",
   "metadata": {},
   "outputs": [],
   "source": [
    "psf_SkySim = SPinst.PSF(data_filename(\"psf/simulated_PSF_database_centered_v3_og.fits\"))"
   ]
  },
  {
   "cell_type": "code",
   "execution_count": 13,
   "id": "c26c7bd6",
   "metadata": {},
   "outputs": [
    {
     "data": {
      "text/plain": [
       "array([[ 1.11691683e-08,  2.15529649e-08,  9.03630175e-09, ...,\n",
       "         3.53132774e-09,  1.08916891e-09,  5.97595655e-11],\n",
       "       [ 1.95822964e-08,  1.78299551e-08,  3.03810004e-09, ...,\n",
       "         7.11717329e-09,  4.03030302e-09,  3.28106685e-10],\n",
       "       [ 8.33344004e-09,  2.42356217e-09,  2.29899170e-09, ...,\n",
       "         4.55492596e-09,  7.23745538e-09,  1.37387079e-09],\n",
       "       ...,\n",
       "       [ 1.21280070e-10, -5.10280195e-12,  5.90458217e-10, ...,\n",
       "         1.13268702e-09,  5.46466870e-10,  2.58894702e-10],\n",
       "       [ 4.25289498e-09,  2.77592987e-09,  1.96479907e-09, ...,\n",
       "         1.32692656e-09,  2.55221863e-10,  3.03665154e-11],\n",
       "       [ 9.72908782e-10,  6.88862642e-10,  3.82960226e-10, ...,\n",
       "         2.60069740e-10,  3.22737547e-11, -2.03186813e-13]], dtype='>f8')"
      ]
     },
     "execution_count": 13,
     "metadata": {},
     "output_type": "execute_result"
    }
   ],
   "source": [
    "psf_SkySim.get_psf_data(1) # 54 total PSFs in the fits file; 9 per array"
   ]
  },
  {
   "cell_type": "code",
   "execution_count": 16,
   "id": "d08ed98f",
   "metadata": {},
   "outputs": [
    {
     "data": {
      "text/plain": [
       "array([  0. ,  16.2, -16.2, -16.2,  16.2,   0. ,   0. ,  16.2, -16.2,\n",
       "         0. ,   0. ,  15. ,  15. , -15. , -15. ,  15. ,   0. , -15. ,\n",
       "         0. ,  16.2, -16.2,   0. , -16.2,   0. ,  16.2, -16.2,  16.2,\n",
       "        15. , -15. ,  15. ,   0. , -15. ,  15. ,   0. ,   0. , -15. ,\n",
       "        15. , -15. ,   0. ,   0. , -15. ,  15. , -15. ,   0. ,  15. ,\n",
       "         0. , -15. ,  15. ,   0. , -15. , -15. ,  15. ,  15. ,   0. ])"
      ]
     },
     "execution_count": 16,
     "metadata": {},
     "output_type": "execute_result"
    }
   ],
   "source": [
    "psf_SkySim.psf_y"
   ]
  },
  {
   "cell_type": "code",
   "execution_count": 18,
   "id": "f7079871",
   "metadata": {},
   "outputs": [],
   "source": [
    "psf_fn = data_filename(\"psf/simulated_PSF_database_centered_v3_og.fits\")"
   ]
  },
  {
   "cell_type": "code",
   "execution_count": 28,
   "id": "5b5cb2a7",
   "metadata": {},
   "outputs": [
    {
     "data": {
      "text/plain": [
       "'/Users/gemmahuai/anaconda3/envs/spherexsim_tractor/lib/python3.11/site-packages/SPHEREx_Simulator_Data/psf/simulated_PSF_database_centered_v3_og.fits'"
      ]
     },
     "execution_count": 28,
     "metadata": {},
     "output_type": "execute_result"
    }
   ],
   "source": [
    "psf_fn"
   ]
  },
  {
   "cell_type": "code",
   "execution_count": 27,
   "id": "d0691e46",
   "metadata": {},
   "outputs": [
    {
     "name": "stdout",
     "output_type": "stream",
     "text": [
      "55\n"
     ]
    }
   ],
   "source": [
    "with fits.open(psf_fn,mode='readonly') as f:\n",
    "    print(len(f))\n",
    "    f0 = f[1]\n",
    "    data = f0.data"
   ]
  },
  {
   "cell_type": "code",
   "execution_count": 26,
   "id": "a3b842fa",
   "metadata": {},
   "outputs": [
    {
     "data": {
      "text/plain": [
       "(401, 401)"
      ]
     },
     "execution_count": 26,
     "metadata": {},
     "output_type": "execute_result"
    }
   ],
   "source": [
    "data.shape"
   ]
  },
  {
   "cell_type": "code",
   "execution_count": null,
   "id": "c632c773",
   "metadata": {},
   "outputs": [],
   "source": []
  },
  {
   "cell_type": "code",
   "execution_count": null,
   "id": "baede13d",
   "metadata": {},
   "outputs": [],
   "source": []
  }
 ],
 "metadata": {
  "kernelspec": {
   "display_name": "spherexsim_tractor",
   "language": "python",
   "name": "spherexsim_tractor"
  },
  "language_info": {
   "codemirror_mode": {
    "name": "ipython",
    "version": 3
   },
   "file_extension": ".py",
   "mimetype": "text/x-python",
   "name": "python",
   "nbconvert_exporter": "python",
   "pygments_lexer": "ipython3",
   "version": "3.11.9"
  },
  "toc": {
   "base_numbering": 1,
   "nav_menu": {},
   "number_sections": true,
   "sideBar": true,
   "skip_h1_title": false,
   "title_cell": "Table of Contents",
   "title_sidebar": "Contents",
   "toc_cell": false,
   "toc_position": {},
   "toc_section_display": true,
   "toc_window_display": false
  }
 },
 "nbformat": 4,
 "nbformat_minor": 5
}
